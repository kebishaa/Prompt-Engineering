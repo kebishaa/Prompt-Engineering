{
 "cells": [
  {
   "cell_type": "code",
   "execution_count": null,
   "id": "0f434611",
   "metadata": {},
   "outputs": [],
   "source": [
    "import pandas as pd\n",
    "import seaborn as sns\n",
    "import matplotlib.pyplot as plt\n",
    "import numpy as np\n",
    "import re\n",
    "import warnings\n",
    "\n",
    "from data_describe.text.text_preprocessing import *\n",
    "from sklearn.datasets import fetch_20newsgroups\n",
    "\n",
    "warnings.filterwarnings('ignore')"
   ]
  },
  {
   "cell_type": "code",
   "execution_count": null,
   "id": "213ac9bc",
   "metadata": {},
   "outputs": [],
   "source": [
    "import sys\n",
    "sys.path.append(\"../scripts/\")\n",
    "from data_cleaner import DataCleaner\n",
    "from util import Util\n",
    "from preprocessor import Processor"
   ]
  },
  {
   "cell_type": "code",
   "execution_count": null,
   "id": "ba7e0045",
   "metadata": {},
   "outputs": [],
   "source": [
    "util = Util()\n",
    "cleaner = DataCleaner()\n",
    "processor = Processor()"
   ]
  },
  {
   "cell_type": "markdown",
   "id": "6d793991",
   "metadata": {},
   "source": [
    "# News"
   ]
  },
  {
   "cell_type": "code",
   "execution_count": null,
   "id": "edb5c7a5",
   "metadata": {},
   "outputs": [],
   "source": [
    "repo=\"https://github.com/kebishaa/Prompt-Engineering.git\"\n",
    "news_df=util.read_from_dvc(\"data/news.csv\",repo,\"news-v0\",low_memory=False)\n",
    "\n",
    "# cleaned_df=util.read_from_file('../data/news.csv')"
   ]
  },
  {
   "cell_type": "code",
   "execution_count": null,
   "id": "cf1c372d",
   "metadata": {},
   "outputs": [],
   "source": [
    "news_df=news_df.sample(frac=1)\n",
    "\n",
    "train_news=news_df.head(8)\n",
    "test_news=news_df.tail(2)"
   ]
  },
  {
   "cell_type": "markdown",
   "id": "0d1a7ca3",
   "metadata": {},
   "source": [
    "# Job"
   ]
  },
  {
   "cell_type": "code",
   "execution_count": null,
   "id": "112ba378",
   "metadata": {},
   "outputs": [],
   "source": [
    "job_df=pd.read_json(\"../data/job_description_train.json\")\n",
    "test_df=pd.read_json(\"../data/job_description_test.json\")"
   ]
  }
 ],
 "metadata": {
  "kernelspec": {
   "display_name": "Python 3 (ipykernel)",
   "language": "python",
   "name": "python3"
  },
  "language_info": {
   "codemirror_mode": {
    "name": "ipython",
    "version": 3
   },
   "file_extension": ".py",
   "mimetype": "text/x-python",
   "name": "python",
   "nbconvert_exporter": "python",
   "pygments_lexer": "ipython3",
   "version": "3.9.12"
  }
 },
 "nbformat": 4,
 "nbformat_minor": 5
}
